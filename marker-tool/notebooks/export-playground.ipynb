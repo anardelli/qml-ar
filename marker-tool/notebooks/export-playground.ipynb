{
 "cells": [
  {
   "cell_type": "code",
   "execution_count": 1,
   "metadata": {},
   "outputs": [],
   "source": [
    "from lxml import etree\n",
    "import json"
   ]
  },
  {
   "cell_type": "code",
   "execution_count": 2,
   "metadata": {},
   "outputs": [],
   "source": [
    "svg_file = etree.parse(open('drawing.svg', 'r')).getroot()"
   ]
  },
  {
   "cell_type": "code",
   "execution_count": 44,
   "metadata": {},
   "outputs": [],
   "source": [
    "def export_markers(svg_file):\n",
    "    # size of Uchiya marker in pixels\n",
    "    UCHIYA_MARKER_SIZE = 600\n",
    "\n",
    "    # version of the CelluloAR library\n",
    "    VERSION = 'CelluloMarker_v1'\n",
    "\n",
    "    # resulting array of markers\n",
    "    markers = []\n",
    "\n",
    "    # number of found markers in svg file\n",
    "    n_detected = 0\n",
    "\n",
    "    # loop over all tags\n",
    "    for tag in svg_file.getchildren():\n",
    "        # looking for groups\n",
    "        if etree.QName(tag).localname == 'g':\n",
    "            # array of circles in group\n",
    "            circles = []\n",
    "\n",
    "            # parameters of a marker\n",
    "            params = None\n",
    "\n",
    "            # subtags\n",
    "            for stag in tag.getchildren():\n",
    "                # name of subtag\n",
    "                stag_name = etree.QName(stag).localname\n",
    "\n",
    "                # if found a title, fill raw_name and params\n",
    "                if stag_name == 'title':\n",
    "                    name = stag.text.split(' ', 1)\n",
    "                    if len(name) != 2 or name[0] != VERSION:\n",
    "                        continue\n",
    "                    params = json.loads(name[1])\n",
    "\n",
    "                # if found a circle, fill x, y\n",
    "                elif stag_name == 'circle':\n",
    "                    circles.append(tuple([float(stag.get(t)) for t in ['cx', 'cy']]))\n",
    "\n",
    "            # if the tag was a marker\n",
    "            if len(circles) > 0 and params:\n",
    "                # create a json object\n",
    "                marker = {}\n",
    "\n",
    "                # adding raw values to resulting json\n",
    "                for key, value in params.items():\n",
    "                    marker['raw_' + key] = value\n",
    "\n",
    "                # add circles coordinates in 0-600, 0-600\n",
    "                marker['dots_uchiya'] = [{\"x\": (x - params['x']) / params['side'] * UCHIYA_MARKER_SIZE,\n",
    "                                         \"y\": (y - params['y']) / params['side'] * UCHIYA_MARKER_SIZE}\n",
    "                                         for x, y in circles]\n",
    "\n",
    "                # add marker name\n",
    "                marker['name'] = params['id']\n",
    "\n",
    "                # consecutive ids from 0\n",
    "                marker['id'] = n_detected\n",
    "                n_detected += 1\n",
    "\n",
    "                # top-left corner\n",
    "                marker['x_mm'] = params['x']\n",
    "                marker['y_mm'] = params['y']\n",
    "\n",
    "                # size of the side in mm\n",
    "                marker['size_mm'] = params['side']\n",
    "\n",
    "                # adding the marker\n",
    "                markers.append(marker)\n",
    "    return {'markers': markers}"
   ]
  },
  {
   "cell_type": "code",
   "execution_count": 45,
   "metadata": {},
   "outputs": [
    {
     "data": {
      "text/plain": [
       "{'markers': [{'dots_uchiya': [{'x': 309.10442191269823,\n",
       "     'y': 296.9876098477561},\n",
       "    {'x': 495.9967283812733, 'y': 326.0683533728401},\n",
       "    {'x': 139.78903912686016, 'y': 470.1393251024262},\n",
       "    {'x': 534.5004243572965, 'y': 150.7382326830451},\n",
       "    {'x': 238.41763373849457, 'y': 460.16599841087304},\n",
       "    {'x': 539.269356900495, 'y': 352.98688614448633},\n",
       "    {'x': 276.39633016088834, 'y': 236.35495560710774},\n",
       "    {'x': 50.59524370530584, 'y': 197.39722326958133},\n",
       "    {'x': 355.9004912862871, 'y': 86.007918118377},\n",
       "    {'x': 279.0070611686209, 'y': 489.67277213282057},\n",
       "    {'x': 467.8060565649839, 'y': 212.24640414656892},\n",
       "    {'x': 178.130809716623, 'y': 97.13476461440378},\n",
       "    {'x': 156.12200476185959, 'y': 252.5230275226097},\n",
       "    {'x': 231.68522815877813, 'y': 101.66574550812805},\n",
       "    {'x': 417.6253580751722, 'y': 416.2731015462499},\n",
       "    {'x': 478.0386221830741, 'y': 48.52408355943738},\n",
       "    {'x': 444.37043864218515, 'y': 512.3984792071966},\n",
       "    {'x': 86.07603990037333, 'y': 504.1599985506334},\n",
       "    {'x': 261.7548791764837, 'y': 327.4266695193883},\n",
       "    {'x': 92.5260104785757, 'y': 345.04844960043204},\n",
       "    {'x': 324.5250048548607, 'y': 365.7339016829045},\n",
       "    {'x': 186.95780577072233, 'y': 129.795388541894},\n",
       "    {'x': 351.443248888517, 'y': 125.83001458373411},\n",
       "    {'x': 186.16576685315763, 'y': 393.51078015092395},\n",
       "    {'x': 435.12463560593454, 'y': 475.4451499516447},\n",
       "    {'x': 431.40059075079785, 'y': 112.41187783495687},\n",
       "    {'x': 490.94674197805773, 'y': 255.29219470860394},\n",
       "    {'x': 63.715191858700564, 'y': 155.31693488220012},\n",
       "    {'x': 80.14240306092432, 'y': 257.88439803955913},\n",
       "    {'x': 117.54147458285419, 'y': 542.3090240637998},\n",
       "    {'x': 165.07988114296361, 'y': 527.1576785563618},\n",
       "    {'x': 392.2669425807526, 'y': 520.4128634118608},\n",
       "    {'x': 203.59121396706317, 'y': 229.8297359768171},\n",
       "    {'x': 277.8378689810521, 'y': 58.15756630429628},\n",
       "    {'x': 476.8776689615548, 'y': 497.01261472815315},\n",
       "    {'x': 85.53915297150354, 'y': 427.10831617933155},\n",
       "    {'x': 305.7145086804121, 'y': 129.628708199878},\n",
       "    {'x': 502.80609614649654, 'y': 390.34956623044764},\n",
       "    {'x': 124.82594743319757, 'y': 323.57778394257065},\n",
       "    {'x': 272.0637451274968, 'y': 416.10524301823705},\n",
       "    {'x': 221.67375119861762, 'y': 503.8988941298063},\n",
       "    {'x': 165.03795847944187, 'y': 54.51862251228722},\n",
       "    {'x': 526.3487304152178, 'y': 549.270508822588},\n",
       "    {'x': 485.66145851558986, 'y': 150.70189762329758},\n",
       "    {'x': 127.62259534356461, 'y': 358.7516940801138},\n",
       "    {'x': 372.1209875445918, 'y': 408.1815057711537},\n",
       "    {'x': 402.2563923290547, 'y': 297.7964851340708},\n",
       "    {'x': 366.9603889451285, 'y': 357.95749516317017},\n",
       "    {'x': 516.2306032453736, 'y': 488.75683462467873},\n",
       "    {'x': 347.6858923745199, 'y': 303.4097063876521},\n",
       "    {'x': 199.22994811025887, 'y': 173.23579544053413},\n",
       "    {'x': 520.2412228582373, 'y': 43.099094697992555},\n",
       "    {'x': 185.3259960118262, 'y': 458.59100333958236},\n",
       "    {'x': 155.74319573058, 'y': 204.52094613342632},\n",
       "    {'x': 562.2519955932354, 'y': 301.06571255781296},\n",
       "    {'x': 365.00027584000725, 'y': 477.5796297178825},\n",
       "    {'x': 432.6653997058131, 'y': 177.6675994578679},\n",
       "    {'x': 240.55759918697433, 'y': 270.93549007761885},\n",
       "    {'x': 563.8475077398767, 'y': 464.5657258264194},\n",
       "    {'x': 240.24371467699402, 'y': 214.75680588649908},\n",
       "    {'x': 114.04042145787307, 'y': 120.96733176744223},\n",
       "    {'x': 381.0237633370632, 'y': 205.02089909664778},\n",
       "    {'x': 220.3546856846575, 'y': 394.80082697409347},\n",
       "    {'x': 347.3494841728302, 'y': 227.83557185019419},\n",
       "    {'x': 56.32176576406213, 'y': 319.61481465275165},\n",
       "    {'x': 418.5335533055481, 'y': 246.19074091794948},\n",
       "    {'x': 125.75921211946577, 'y': 287.8979972893393},\n",
       "    {'x': 406.81991647645174, 'y': 370.645250868973},\n",
       "    {'x': 175.41288824503275, 'y': 324.2982324525268},\n",
       "    {'x': 237.04758966291016, 'y': 58.158354266271054},\n",
       "    {'x': 108.03527849493626, 'y': 169.6561626417123},\n",
       "    {'x': 463.02607202144384, 'y': 430.5444044768175},\n",
       "    {'x': 367.83425477760426, 'y': 274.60358542868903},\n",
       "    {'x': 219.9121345902563, 'y': 300.64437672144646},\n",
       "    {'x': 531.9520408652374, 'y': 280.642728115901},\n",
       "    {'x': 265.2615928532421, 'y': 150.51233499003993},\n",
       "    {'x': 510.38101404246476, 'y': 115.52321638681522},\n",
       "    {'x': 301.78654316015417, 'y': 519.8545570933989},\n",
       "    {'x': 547.378811032786, 'y': 386.0005964074688},\n",
       "    {'x': 532.6783150905811, 'y': 449.9219514617467},\n",
       "    {'x': 449.94361535811004, 'y': 331.1975787433129},\n",
       "    {'x': 326.4085607357952, 'y': 66.4328137572501},\n",
       "    {'x': 534.9217378458098, 'y': 208.42356409608269},\n",
       "    {'x': 202.33703122298078, 'y': 43.16928262942719},\n",
       "    {'x': 174.86720812956648, 'y': 493.4789414033147},\n",
       "    {'x': 330.2955858124261, 'y': 424.85104177885603},\n",
       "    {'x': 129.56542285564916, 'y': 48.58661978471729},\n",
       "    {'x': 473.6812011757125, 'y': 563.767429998611},\n",
       "    {'x': 152.1649623587407, 'y': 169.76205378358023}],\n",
       "   'id': 0,\n",
       "   'name': u'0f46e6af',\n",
       "   u'raw_color': u'#ff0000',\n",
       "   u'raw_id': u'0f46e6af',\n",
       "   u'raw_margin': 4.9,\n",
       "   u'raw_ndots': 89,\n",
       "   u'raw_side': 86.934525,\n",
       "   u'raw_size': 1.6,\n",
       "   u'raw_x': 27.970238,\n",
       "   u'raw_y': 58.875,\n",
       "   'size_mm': 86.934525,\n",
       "   'x_mm': 27.970238,\n",
       "   'y_mm': 58.875}]}"
      ]
     },
     "execution_count": 45,
     "metadata": {},
     "output_type": "execute_result"
    }
   ],
   "source": [
    "export_markers(svg_file)"
   ]
  },
  {
   "cell_type": "code",
   "execution_count": null,
   "metadata": {},
   "outputs": [],
   "source": [
    "def get_w_h_from_viewbox(svg):\n",
    "    x1, y1, x2, y2 = [float(x) for x in svg.get('viewBox').split()]\n",
    "    return x2 - x1, y2 - y1"
   ]
  },
  {
   "cell_type": "code",
   "execution_count": 43,
   "metadata": {},
   "outputs": [],
   "source": [
    "def get_w_h_mm(svg):\n",
    "    vals = [svg.get(prop) for prop in ['width', 'height']]\n",
    "    assert(all([val[-2:] == 'mm' for val in vals]))\n",
    "    w, h = [float(val[:-2]) for val in vals]\n",
    "    return w, h"
   ]
  },
  {
   "cell_type": "code",
   "execution_count": 44,
   "metadata": {},
   "outputs": [
    {
     "data": {
      "text/plain": [
       "(210.0, 297.0)"
      ]
     },
     "execution_count": 44,
     "metadata": {},
     "output_type": "execute_result"
    }
   ],
   "source": [
    "get_w_h_from_viewbox(svg_file)"
   ]
  },
  {
   "cell_type": "code",
   "execution_count": 45,
   "metadata": {},
   "outputs": [
    {
     "data": {
      "text/plain": [
       "(100.0, 297.0)"
      ]
     },
     "execution_count": 45,
     "metadata": {},
     "output_type": "execute_result"
    }
   ],
   "source": [
    "get_w_h_mm(svg_file)"
   ]
  },
  {
   "cell_type": "code",
   "execution_count": null,
   "metadata": {},
   "outputs": [],
   "source": [
    "def "
   ]
  }
 ],
 "metadata": {
  "kernelspec": {
   "display_name": "Python 2",
   "language": "python",
   "name": "python2"
  },
  "language_info": {
   "codemirror_mode": {
    "name": "ipython",
    "version": 2
   },
   "file_extension": ".py",
   "mimetype": "text/x-python",
   "name": "python",
   "nbconvert_exporter": "python",
   "pygments_lexer": "ipython2",
   "version": "2.7.13"
  }
 },
 "nbformat": 4,
 "nbformat_minor": 2
}

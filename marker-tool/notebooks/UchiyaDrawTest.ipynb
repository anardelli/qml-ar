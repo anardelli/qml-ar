{
 "cells": [
  {
   "cell_type": "code",
   "execution_count": 1,
   "metadata": {},
   "outputs": [],
   "source": [
    "import numpy as np\n",
    "%matplotlib inline\n",
    "from matplotlib import pyplot as plt\n",
    "from tqdm import tqdm\n",
    "from skimage.draw import circle\n",
    "import json\n",
    "from skimage.io import imread"
   ]
  },
  {
   "cell_type": "markdown",
   "metadata": {},
   "source": [
    "### Problem\n",
    "This notebook is aimed at investigating into UchiyaMarkers coordinate system\n",
    "\n",
    "It loads .txt file and tries to reproduce the resulting .jpg marker"
   ]
  },
  {
   "cell_type": "code",
   "execution_count": 2,
   "metadata": {},
   "outputs": [],
   "source": [
    "# configuration\n",
    "imsize = 600\n",
    "txt_filename = '0.txt'\n",
    "jpg_filename = '0.jpg'"
   ]
  },
  {
   "cell_type": "code",
   "execution_count": 3,
   "metadata": {},
   "outputs": [
    {
     "name": "stderr",
     "output_type": "stream",
     "text": [
      "100%|██████████| 40/40 [00:00<00:00, 30654.51it/s]"
     ]
    },
    {
     "name": "stdout",
     "output_type": "stream",
     "text": [
      "Detected 40 lines\n"
     ]
    },
    {
     "name": "stderr",
     "output_type": "stream",
     "text": [
      "\n"
     ]
    }
   ],
   "source": [
    "# loading marker file\n",
    "points = []\n",
    "with open(txt_filename, 'r') as f:\n",
    "    f_array = f.read().split('\\n')\n",
    "    n_lines = int(f_array[0])\n",
    "    print('Detected %d lines' % n_lines)\n",
    "    for i in tqdm(range(n_lines)):\n",
    "        points.append(list(map(int, f_array[i + 1].split())))\n",
    "    assert(len(points) == n_lines)"
   ]
  },
  {
   "cell_type": "code",
   "execution_count": 4,
   "metadata": {},
   "outputs": [],
   "source": [
    "# get image of dots from their coordinates\n",
    "def draw_dots(points):\n",
    "    # creating empty image\n",
    "    img = np.zeros((imsize, imsize))\n",
    "\n",
    "    # helper for drawing circles on img\n",
    "    def draw_circle(x, y, r = 5, image = img):\n",
    "        rr, cc = circle(x, y, r)\n",
    "        img[rr, cc] = 1\n",
    "\n",
    "    # drawing points from the .txt file\n",
    "    # transformation: y -> imsize - 1 - y\n",
    "    # (mirror y axis)\n",
    "    [draw_circle(x, imsize - 1 - y) for x, y in points]\n",
    "\n",
    "    # reference point\n",
    "    # this point should be centered left-right, and at the top\n",
    "    draw_circle(300, 15, 10)\n",
    "    \n",
    "    return img"
   ]
  },
  {
   "cell_type": "code",
   "execution_count": 5,
   "metadata": {},
   "outputs": [],
   "source": [
    "def compare(points, filename):\n",
    "    # draw dots\n",
    "    img = draw_dots(points)\n",
    "    # creating 1x2 subplots object\n",
    "    _, (ax1, ax2) = plt.subplots(figsize=(8, 3), ncols=2)\n",
    "\n",
    "    # transposing since want coordinate system like in Cellulo\n",
    "    # x: right\n",
    "    # y: down\n",
    "    # origin: top-left\n",
    "    ax1.imshow(1 - img.T, cmap='gray', interpolation='gaussian')\n",
    "    ax1.set_title('Created')\n",
    "\n",
    "    # loading Uchiya .jpg image\n",
    "    ax2.imshow(imread(filename))\n",
    "    ax2.set_title('Original')"
   ]
  },
  {
   "cell_type": "code",
   "execution_count": 6,
   "metadata": {
    "scrolled": true
   },
   "outputs": [
    {
     "data": {
      "image/png": "[encoded data removed]",
      "text/plain": [
       "<matplotlib.figure.Figure at 0x7f500a96b950>"
      ]
     },
     "metadata": {},
     "output_type": "display_data"
    }
   ],
   "source": [
    "compare(points, jpg_filename)"
   ]
  },
  {
   "cell_type": "markdown",
   "metadata": {},
   "source": [
    "### Result\n",
    "The coordinate system of **UchiyaMarkers** is:\n",
    "\n",
    "``x: right\n",
    "y: up\n",
    "origin: bottom-left``\n",
    "\n",
    "**Cellulo** coordinate system:\n",
    "\n",
    "``x: right\n",
    "y: down\n",
    "origin: top-left``\n",
    "\n",
    "Transformation: flip y axis:\n",
    "$$y_{c}=y_{max}-1-y_{u}$$"
   ]
  },
  {
   "cell_type": "markdown",
   "metadata": {
    "collapsed": true
   },
   "source": [
    "## SVG file"
   ]
  },
  {
   "cell_type": "code",
   "execution_count": 7,
   "metadata": {},
   "outputs": [],
   "source": [
    "dots = json.load(open('drawing.svg.markers.json', 'r'))['markers'][0]['dots_uchiya']\n",
    "dots = [[float(dot[t]) for t in ['x', 'y']] for dot in dots]"
   ]
  },
  {
   "cell_type": "code",
   "execution_count": 8,
   "metadata": {},
   "outputs": [
    {
     "data": {
      "image/png": "[encoded data removed]",
      "text/plain": [
       "<matplotlib.figure.Figure at 0x7f500a4f9410>"
      ]
     },
     "metadata": {},
     "output_type": "display_data"
    }
   ],
   "source": [
    "compare(dots, 'drawing.svg.png')"
   ]
  },
  {
   "cell_type": "code",
   "execution_count": null,
   "metadata": {},
   "outputs": [],
   "source": []
  }
 ],
 "metadata": {
  "kernelspec": {
   "display_name": "Python 2",
   "language": "python",
   "name": "python2"
  },
  "language_info": {
   "codemirror_mode": {
    "name": "ipython",
    "version": 2
   },
   "file_extension": ".py",
   "mimetype": "text/x-python",
   "name": "python",
   "nbconvert_exporter": "python",
   "pygments_lexer": "ipython2",
   "version": "2.7.13"
  }
 },
 "nbformat": 4,
 "nbformat_minor": 2
}

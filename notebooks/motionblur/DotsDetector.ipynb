{
 "cells": [
  {
   "cell_type": "code",
   "execution_count": 1,
   "metadata": {
    "collapsed": true
   },
   "outputs": [],
   "source": [
    "%matplotlib inline\n",
    "from matplotlib import pyplot as plt\n",
    "import cv2\n",
    "import numpy as np\n",
    "from tqdm import tqdm\n",
    "import os\n",
    "from subprocess import Popen, PIPE\n",
    "from scipy.stats import circmean, circstd\n",
    "from time import sleep\n",
    "from scipy.misc import imresize"
   ]
  },
  {
   "cell_type": "code",
   "execution_count": 2,
   "metadata": {
    "collapsed": true
   },
   "outputs": [],
   "source": [
    "dots_bin = '../../examples/97_detect_dots/97_detect_dots'"
   ]
  },
  {
   "cell_type": "code",
   "execution_count": 3,
   "metadata": {
    "collapsed": true
   },
   "outputs": [],
   "source": [
    "def circmedian(angs, high = 2 * np.pi):\n",
    "    \"\"\" Calculate circular median \"\"\"\n",
    "    angs = np.array(angs) / high * (2 * np.pi)\n",
    "    pdists = angs[np.newaxis, :] - angs[:, np.newaxis]\n",
    "    pdists = (pdists + np.pi) % (2 * np.pi) - np.pi\n",
    "    pdists = np.abs(pdists).sum(1)\n",
    "    return angs[np.argmin(pdists)]"
   ]
  },
  {
   "cell_type": "code",
   "execution_count": 4,
   "metadata": {
    "collapsed": true
   },
   "outputs": [],
   "source": [
    "def angle_dist(a1, a2, high = 360):\n",
    "    a1 *= 360 / high\n",
    "    a2 *= 360 / high\n",
    "    v1 = np.abs(a1 - a2)\n",
    "    v2 = np.abs(360 - v1)\n",
    "    return np.min([v1, v2], axis = 0) * high / 360"
   ]
  },
  {
   "cell_type": "code",
   "execution_count": 5,
   "metadata": {
    "collapsed": true
   },
   "outputs": [],
   "source": [
    "def get_mask(hsv, hmean = 0, hdelta = 10, smin = 100, smax = 255, vmin = 50, vmax = 255):\n",
    "\n",
    "    # obtaining hsv channels\n",
    "    h = hsv[:,:,0]\n",
    "    s = hsv[:,:,1]\n",
    "    v = hsv[:,:,2]\n",
    "    \n",
    "    # doing thresholding\n",
    "    h_mask = angle_dist(h, hmean, high = 180) <= hdelta\n",
    "    s_mask = (s >= smin) & (s <= smax)\n",
    "    v_mask = (v >= vmin) & (v <= vmax)\n",
    "    mask = h_mask & s_mask & v_mask\n",
    "    return mask"
   ]
  },
  {
   "cell_type": "code",
   "execution_count": 6,
   "metadata": {
    "collapsed": true
   },
   "outputs": [],
   "source": [
    "def get_dots_on_image(mask):\n",
    "    \"\"\" Detect and return dots on the mask \"\"\"\n",
    "    \n",
    "    # output temporary filename\n",
    "    out_fn = '/tmp/tmpimgcvdots.png'\n",
    "    \n",
    "    # writing binarized image\n",
    "    cv2.imwrite(out_fn, 1. * mask)\n",
    "    \n",
    "    def get_dots(in_fn):\n",
    "        \"\"\" Run the 97_detect_dots project and output the detected dots \"\"\"\n",
    "\n",
    "        global bin_proc\n",
    "\n",
    "        # run the executable (if not running)\n",
    "        if not bin_proc:\n",
    "            bin_proc = Popen([dots_bin], stdin=PIPE, stdout=PIPE)\n",
    "\n",
    "        # writing data to the process\n",
    "        bin_proc.stdin.write(in_fn + '\\n')\n",
    "\n",
    "        # obtaining the number of lines...\n",
    "        n = int(bin_proc.stdout.readline().splitlines()[0])\n",
    "        res = []\n",
    "        for i in range(n):\n",
    "            line = bin_proc.stdout.readline()\n",
    "            line = line.splitlines()[0]\n",
    "            line = [float(x) for x in line.split()]\n",
    "            res += [line]\n",
    "\n",
    "        # return the array with dots\n",
    "        return res\n",
    "    return get_dots(out_fn)"
   ]
  },
  {
   "cell_type": "code",
   "execution_count": 85,
   "metadata": {
    "collapsed": true
   },
   "outputs": [],
   "source": [
    "offsets = []\n",
    "for i in range(-2, 3):\n",
    "    for j in range(-2, 3):\n",
    "        if abs(i) + abs(j) <= 2:\n",
    "            offsets += [(i, j)]"
   ]
  },
  {
   "cell_type": "code",
   "execution_count": 86,
   "metadata": {},
   "outputs": [],
   "source": [
    "def get_stats(hsv, mask, do_plot = False):\n",
    "    \n",
    "    # obtaining the list of points\n",
    "    data = get_dots_on_image(mask)\n",
    "    \n",
    "    # obtaining HSV data for detected points\n",
    "    hsv_points = []\n",
    "    for point in data:\n",
    "        point_ = [int(t) for t in point]\n",
    "        for offset in offsets:\n",
    "            point = hsv[point_[1] + offset[0], point_[0] + offset[1], :]\n",
    "            if point[0] < 20 or point[0] >= 160:\n",
    "                hsv_points += [list(point)]\n",
    "            \n",
    "    if len(hsv_points) == 0:\n",
    "        return None, None, None\n",
    "            \n",
    "    hsv_points = 1. * np.array(hsv_points)\n",
    "    \n",
    "    if do_plot:\n",
    "        plot_hsv(hsv_points)\n",
    "    \n",
    "    stats = [None] * 3\n",
    "    stats[0] = (circmean(hsv_points[:, 0], high = 180), circstd(hsv_points[:, 0], high = 180), circmedian(hsv_points[:, 0], high = 180))\n",
    "    stats[1] = (np.mean(hsv_points[:, 1]), np.std(hsv_points[:, 1]), np.median(hsv_points[:, 1]))\n",
    "    stats[2] = (np.mean(hsv_points[:, 2]), np.std(hsv_points[:, 2]), np.median(hsv_points[:, 2]))\n",
    "    \n",
    "    return data, stats, hsv_points"
   ]
  },
  {
   "cell_type": "code",
   "execution_count": 118,
   "metadata": {
    "collapsed": true
   },
   "outputs": [],
   "source": [
    "def plot_hsv(hsv_points):\n",
    "    fig = plt.figure()\n",
    "    plt.title('HSV for dots')\n",
    "    plt.xlabel('H, S, V')\n",
    "    plt.ylabel('Frequency')\n",
    "    plt.hist(hsv_points[:, 0], label = 'H', alpha = 0.5)\n",
    "    plt.hist(hsv_points[:, 1], label = 'S', alpha = 0.5)\n",
    "    plt.hist(hsv_points[:, 2], label = 'V', alpha = 0.5)\n",
    "    plt.legend()\n",
    "    return fig"
   ]
  },
  {
   "cell_type": "code",
   "execution_count": 119,
   "metadata": {
    "collapsed": true
   },
   "outputs": [],
   "source": [
    "def stats_to_params(stats, hsigma = 1, ssigma = 1, vsigma = 1):\n",
    "    res = {}\n",
    "    if not stats:\n",
    "        res['hmean'] = res['hdelta'] = 0\n",
    "        res['smin'] = res['smax'] = 0\n",
    "        res['vmin'] = res['vmax'] = 0\n",
    "        return res\n",
    "    res['hmean'] = stats[0][2]\n",
    "    res['hdelta'] = hsigma * stats[0][1]\n",
    "    res['smin'] = stats[1][2] - ssigma * stats[1][1]\n",
    "    res['smax'] = 255\n",
    "    #res['smax'] = stats[1][2] + ssigma * stats[1][1]\n",
    "    res['vmin'] = stats[2][2] - vsigma * stats[2][1]\n",
    "    #res['vmax'] = stats[2][2] + vsigma * stats[2][1]\n",
    "    res['vmax'] = 255\n",
    "    return res"
   ]
  },
  {
   "cell_type": "code",
   "execution_count": 120,
   "metadata": {
    "collapsed": true
   },
   "outputs": [],
   "source": [
    "def plot_params(params_arr, default_params):\n",
    "    # plot H\n",
    "    hmean = [x['hmean'] for x in params_arr]\n",
    "    hdelta = [x['hdelta'] for x in params_arr]\n",
    "    L = 10\n",
    "    plt.figure()\n",
    "    plt.title('Dots parameters')\n",
    "    plt.plot([default_params['hmean']] * L + hmean, label = 'HMedian')\n",
    "    plt.plot([default_params['hdelta']] * L + hdelta, label = 'HDelta')\n",
    "\n",
    "    # plot S\n",
    "    smin = [x['smin'] for x in params_arr]\n",
    "    smax = [x['smax'] for x in params_arr]\n",
    "    #plt.fill_between(range(len(smin)), smin, smax, alpha = 0.3, label = 'S')\n",
    "    plt.plot([default_params['smin']] * L + smin, label = 'Smin')\n",
    "    \n",
    "    # plot V\n",
    "    vmin = [x['vmin'] for x in params_arr]\n",
    "    vmax = [x['vmax'] for x in params_arr]\n",
    "    #plt.fill_between(range(len(vmin)), vmin, vmax, alpha = 0.3, label = 'V')\n",
    "    plt.plot([default_params['vmin']] * L + vmin, label = 'Vmin')\n",
    "    plt.legend()\n",
    "    plt.show()"
   ]
  },
  {
   "cell_type": "code",
   "execution_count": 121,
   "metadata": {},
   "outputs": [
    {
     "name": "stdout",
     "output_type": "stream",
     "text": [
      "{'hmean': 0, 'vmin': 50, 'smax': 255, 'smin': 50, 'vmax': 255, 'hdelta': 50}\n"
     ]
    },
    {
     "ename": "AttributeError",
     "evalue": "'FigureCanvasAgg' object has no attribute 'renderer'",
     "output_type": "error",
     "traceback": [
      "\u001b[0;31m---------------------------------------------------------------------------\u001b[0m",
      "\u001b[0;31mAttributeError\u001b[0m                            Traceback (most recent call last)",
      "\u001b[0;32m<ipython-input-121-24aced65de04>\u001b[0m in \u001b[0;36m<module>\u001b[0;34m()\u001b[0m\n\u001b[1;32m     36\u001b[0m     \u001b[0;32mif\u001b[0m \u001b[0mdata\u001b[0m\u001b[0;34m:\u001b[0m\u001b[0;34m\u001b[0m\u001b[0m\n\u001b[1;32m     37\u001b[0m         \u001b[0;31m# obtaining plot data\u001b[0m\u001b[0;34m\u001b[0m\u001b[0;34m\u001b[0m\u001b[0m\n\u001b[0;32m---> 38\u001b[0;31m         \u001b[0mplot\u001b[0m \u001b[0;34m=\u001b[0m \u001b[0mnp\u001b[0m\u001b[0;34m.\u001b[0m\u001b[0mfromstring\u001b[0m\u001b[0;34m(\u001b[0m\u001b[0mfig\u001b[0m\u001b[0;34m.\u001b[0m\u001b[0mcanvas\u001b[0m\u001b[0;34m.\u001b[0m\u001b[0mtostring_rgb\u001b[0m\u001b[0;34m(\u001b[0m\u001b[0;34m)\u001b[0m\u001b[0;34m,\u001b[0m \u001b[0mdtype\u001b[0m\u001b[0;34m=\u001b[0m\u001b[0mnp\u001b[0m\u001b[0;34m.\u001b[0m\u001b[0muint8\u001b[0m\u001b[0;34m,\u001b[0m \u001b[0msep\u001b[0m\u001b[0;34m=\u001b[0m\u001b[0;34m''\u001b[0m\u001b[0;34m)\u001b[0m\u001b[0;34m\u001b[0m\u001b[0m\n\u001b[0m\u001b[1;32m     39\u001b[0m \u001b[0;34m\u001b[0m\u001b[0m\n\u001b[1;32m     40\u001b[0m     \u001b[0;31m# obtaining parameters for the next iteration\u001b[0m\u001b[0;34m\u001b[0m\u001b[0;34m\u001b[0m\u001b[0m\n",
      "\u001b[0;32m/usr/lib/python2.7/dist-packages/matplotlib/backends/backend_agg.pyc\u001b[0m in \u001b[0;36mtostring_rgb\u001b[0;34m(self)\u001b[0m\n\u001b[1;32m    492\u001b[0m         if __debug__: verbose.report('FigureCanvasAgg.tostring_rgb',\n\u001b[1;32m    493\u001b[0m                                      'debug-annoying')\n\u001b[0;32m--> 494\u001b[0;31m         \u001b[0;32mreturn\u001b[0m \u001b[0mself\u001b[0m\u001b[0;34m.\u001b[0m\u001b[0mrenderer\u001b[0m\u001b[0;34m.\u001b[0m\u001b[0mtostring_rgb\u001b[0m\u001b[0;34m(\u001b[0m\u001b[0;34m)\u001b[0m\u001b[0;34m\u001b[0m\u001b[0m\n\u001b[0m\u001b[1;32m    495\u001b[0m \u001b[0;34m\u001b[0m\u001b[0m\n\u001b[1;32m    496\u001b[0m     \u001b[0;32mdef\u001b[0m \u001b[0mtostring_argb\u001b[0m\u001b[0;34m(\u001b[0m\u001b[0mself\u001b[0m\u001b[0;34m)\u001b[0m\u001b[0;34m:\u001b[0m\u001b[0;34m\u001b[0m\u001b[0m\n",
      "\u001b[0;31mAttributeError\u001b[0m: 'FigureCanvasAgg' object has no attribute 'renderer'"
     ]
    },
    {
     "data": {
      "image/png": "[encoded data removed]",
      "text/plain": [
       "<matplotlib.figure.Figure at 0x7f68092d58d0>"
      ]
     },
     "metadata": {},
     "output_type": "display_data"
    }
   ],
   "source": [
    "bin_proc = None\n",
    "cap = cv2.VideoCapture('/home/sergei/Downloads/VID_20181125_194744.mp4')\n",
    "\n",
    "# array of parameters\n",
    "params_arr = []\n",
    "\n",
    "# default parameters for the threshold\n",
    "default_params = {'hmean': 0, 'hdelta': 50, 'vmin': 50,\n",
    "                  'smin': 50, 'vmax': 255, 'smax': 255}\n",
    "params = {x: y for x, y in default_params.items()}\n",
    "\n",
    "while cap.isOpened():\n",
    "    # reading frame\n",
    "    ret, frame = cap.read()\n",
    "    \n",
    "    # breaking the loop if no frame available\n",
    "    if not ret: break\n",
    "    \n",
    "    frame = imresize(frame, 0.2)\n",
    "    \n",
    "    # threshold\n",
    "    #print(params)\n",
    "    # obtaining HSV\n",
    "    hsv = cv2.cvtColor(frame, cv2.COLOR_BGR2HSV)\n",
    "    \n",
    "    # obtaining mask via thresholding\n",
    "    print(params)\n",
    "    mask = get_mask(hsv, **params)\n",
    "    \n",
    "    # obtain points\n",
    "    data, stats, hsv_points = get_stats(hsv, mask)\n",
    "    \n",
    "    # plotting histogram\n",
    "    fig = plot_hsv(hsv_points)\n",
    "    \n",
    "    if data:\n",
    "        # obtaining plot data\n",
    "        plot = np.fromstring(fig.canvas.tostring_rgb(), dtype=np.uint8, sep='')\n",
    "    \n",
    "    # obtaining parameters for the next iteration\n",
    "    new_params = stats_to_params(stats, hsigma = 1, ssigma = 1, vsigma = 3)\n",
    "    \n",
    "    mask = 1. * mask\n",
    "    \n",
    "    # if have detected the marker...\n",
    "    if data:\n",
    "        # drawing circles\n",
    "        for point in data:\n",
    "            cv2.circle(frame, tuple([int(t) for t in point]), 10, (255, 0, 0))\n",
    "            cv2.circle(mask, tuple([int(t) for t in point]), 10, (255, 0, 0))\n",
    "\n",
    "        # and updating the parameters\n",
    "        #params['smin'] = new_params['smin']\n",
    "        params['vmin'] = new_params['vmin']\n",
    "    else:\n",
    "        params = {x: y for x, y in default_params.items()}\n",
    "        #break\n",
    "    \n",
    "    # adding current data\n",
    "    params_arr += [new_params]\n",
    "    \n",
    "    cv2.imshow('frame', 1. * mask)\n",
    "    cv2.imshow('frameOrig', frame)\n",
    "    cv2.imshow('plot', plot)\n",
    "    if cv2.waitKey(1) & 0xFF == ord('q'):\n",
    "        break\n",
    "        \n",
    "\n",
    "cap.release()"
   ]
  },
  {
   "cell_type": "code",
   "execution_count": null,
   "metadata": {},
   "outputs": [],
   "source": [
    "plot_params(params_arr, default_params)"
   ]
  },
  {
   "cell_type": "code",
   "execution_count": 48,
   "metadata": {},
   "outputs": [
    {
     "data": {
      "text/plain": [
       "1.0"
      ]
     },
     "execution_count": 48,
     "metadata": {},
     "output_type": "execute_result"
    }
   ],
   "source": [
    "np.mean([x['hmean'] != 0 for x in params_arr])"
   ]
  },
  {
   "cell_type": "code",
   "execution_count": 91,
   "metadata": {},
   "outputs": [
    {
     "data": {
      "text/plain": [
       "<matplotlib.image.AxesImage at 0x7f68097d1b50>"
      ]
     },
     "execution_count": 91,
     "metadata": {},
     "output_type": "execute_result"
    },
    {
     "data": {
      "image/png": "[encoded data removed]",
      "text/plain": [
       "<matplotlib.figure.Figure at 0x7f6820dca350>"
      ]
     },
     "metadata": {},
     "output_type": "display_data"
    }
   ],
   "source": [
    "plt.imshow(mask, interpolation = 'none')"
   ]
  },
  {
   "cell_type": "code",
   "execution_count": 50,
   "metadata": {},
   "outputs": [
    {
     "data": {
      "text/plain": [
       "0.95774257330246915"
      ]
     },
     "execution_count": 50,
     "metadata": {},
     "output_type": "execute_result"
    }
   ],
   "source": [
    "np.mean(mask)"
   ]
  },
  {
   "cell_type": "code",
   "execution_count": 73,
   "metadata": {},
   "outputs": [
    {
     "data": {
      "text/plain": [
       "(array([ 241.,  177.,  235.,   89.,    0.,    0.,    0.,    0.,    0.,  233.]),\n",
       " array([   0. ,   10.2,   20.4,   30.6,   40.8,   51. ,   61.2,   71.4,\n",
       "          81.6,   91.8,  102. ]),\n",
       " <a list of 10 Patch objects>)"
      ]
     },
     "execution_count": 73,
     "metadata": {},
     "output_type": "execute_result"
    },
    {
     "data": {
      "image/png": "[encoded data removed]",
      "text/plain": [
       "<matplotlib.figure.Figure at 0x7f6820efb4d0>"
      ]
     },
     "metadata": {},
     "output_type": "display_data"
    }
   ],
   "source": [
    "plt.hist(hsv_points[:, 0])"
   ]
  },
  {
   "cell_type": "code",
   "execution_count": 109,
   "metadata": {},
   "outputs": [
    {
     "data": {
      "image/png": "[encoded data removed]",
      "text/plain": [
       "<matplotlib.figure.Figure at 0x7f68097d07d0>"
      ]
     },
     "metadata": {},
     "output_type": "display_data"
    }
   ],
   "source": [
    "fig = plot_hsv(hsv_points)"
   ]
  },
  {
   "cell_type": "code",
   "execution_count": 105,
   "metadata": {},
   "outputs": [],
   "source": [
    "cv2.imshow('frameOrig', frame)"
   ]
  },
  {
   "cell_type": "code",
   "execution_count": 106,
   "metadata": {},
   "outputs": [
    {
     "data": {
      "text/plain": [
       "array([255, 255, 255, ..., 255, 255, 255], dtype=uint8)"
      ]
     },
     "execution_count": 106,
     "metadata": {},
     "output_type": "execute_result"
    }
   ],
   "source": [
    "data"
   ]
  },
  {
   "cell_type": "code",
   "execution_count": null,
   "metadata": {},
   "outputs": [],
   "source": [
    "fig.canvas.tostring_rgb()"
   ]
  },
  {
   "cell_type": "code",
   "execution_count": null,
   "metadata": {
    "collapsed": true
   },
   "outputs": [],
   "source": []
  }
 ],
 "metadata": {
  "kernelspec": {
   "display_name": "Python 2",
   "language": "python",
   "name": "python2"
  },
  "language_info": {
   "codemirror_mode": {
    "name": "ipython",
    "version": 2
   },
   "file_extension": ".py",
   "mimetype": "text/x-python",
   "name": "python",
   "nbconvert_exporter": "python",
   "pygments_lexer": "ipython2",
   "version": "2.7.13"
  }
 },
 "nbformat": 4,
 "nbformat_minor": 2
}
